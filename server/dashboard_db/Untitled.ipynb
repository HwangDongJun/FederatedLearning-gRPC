{
 "cells": [
  {
   "cell_type": "code",
   "execution_count": 1,
   "metadata": {},
   "outputs": [],
   "source": [
    "import random\n",
    "from tensorflow.keras import datasets"
   ]
  },
  {
   "cell_type": "code",
   "execution_count": 2,
   "metadata": {},
   "outputs": [],
   "source": [
    "(train_images, train_labels), (test_images, test_labels) = datasets.fashion_mnist.load_data()"
   ]
  },
  {
   "cell_type": "code",
   "execution_count": 53,
   "metadata": {},
   "outputs": [],
   "source": [
    "random_choice_list = list()\n",
    "\n",
    "hete_count_choice = random.choice([0, 0, 1, 1, 2, 2, 2, 2, 2, 2, 2, 3, 3, 3, 3, 3, 4, 4, 5, 5])\n",
    "sample_hete_list = random.sample([0, 1, 2, 3, 4, 5, 6, 7, 8, 9], hete_count_choice)\n",
    "if random_choice_list == list():\n",
    "    random_choice_list = list(set([random.randint(0, 5999) for r in range(10000)]))"
   ]
  },
  {
   "cell_type": "code",
   "execution_count": 54,
   "metadata": {},
   "outputs": [
    {
     "data": {
      "text/plain": [
       "4886"
      ]
     },
     "execution_count": 54,
     "metadata": {},
     "output_type": "execute_result"
    }
   ],
   "source": [
    "len(random_choice_list)"
   ]
  },
  {
   "cell_type": "code",
   "execution_count": null,
   "metadata": {},
   "outputs": [],
   "source": []
  },
  {
   "cell_type": "code",
   "execution_count": 43,
   "metadata": {},
   "outputs": [],
   "source": [
    "import numpy as np\n",
    "import collections"
   ]
  },
  {
   "cell_type": "code",
   "execution_count": 50,
   "metadata": {},
   "outputs": [],
   "source": [
    "random_train_images = np.array([])\n",
    "random_train_labels = np.array([])\n",
    "select_test_images = np.array([])\n",
    "select_test_labels = np.array([])"
   ]
  },
  {
   "cell_type": "code",
   "execution_count": 51,
   "metadata": {},
   "outputs": [],
   "source": [
    "for i, rcl in enumerate(random_choice_list):\n",
    "    if int(train_labels[rcl]) not in sample_hete_list:\n",
    "        if len(random_train_images) == 0:\n",
    "            random_train_images = np.expand_dims(train_images[rcl], axis=0)\n",
    "            random_train_labels = train_labels[rcl]\n",
    "        else:\n",
    "            random_train_images = np.append(random_train_images, np.expand_dims(train_images[rcl], axis=0), axis=0)\n",
    "            random_train_labels = np.append(random_train_labels, train_labels[rcl])\n",
    "\n",
    "data_size = dict(collections.Counter(random_train_labels))"
   ]
  },
  {
   "cell_type": "code",
   "execution_count": 52,
   "metadata": {},
   "outputs": [
    {
     "data": {
      "text/plain": [
       "{3: 385, 2: 385, 7: 390, 5: 388, 4: 390, 8: 358}"
      ]
     },
     "execution_count": 52,
     "metadata": {},
     "output_type": "execute_result"
    }
   ],
   "source": [
    "data_size"
   ]
  },
  {
   "cell_type": "code",
   "execution_count": null,
   "metadata": {},
   "outputs": [],
   "source": []
  }
 ],
 "metadata": {
  "kernelspec": {
   "display_name": "Python 3",
   "language": "python",
   "name": "python3"
  },
  "language_info": {
   "codemirror_mode": {
    "name": "ipython",
    "version": 3
   },
   "file_extension": ".py",
   "mimetype": "text/x-python",
   "name": "python",
   "nbconvert_exporter": "python",
   "pygments_lexer": "ipython3",
   "version": "3.8.10"
  }
 },
 "nbformat": 4,
 "nbformat_minor": 4
}
